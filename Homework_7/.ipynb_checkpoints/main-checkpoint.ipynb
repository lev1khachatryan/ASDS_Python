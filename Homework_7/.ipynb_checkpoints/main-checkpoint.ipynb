{
 "cells": [
  {
   "cell_type": "code",
   "execution_count": 5,
   "metadata": {},
   "outputs": [],
   "source": [
    "import numpy as np\n",
    "import pandas as pd\n",
    "import json\n",
    "\n",
    "import warnings\n",
    "warnings.filterwarnings('ignore')"
   ]
  },
  {
   "cell_type": "code",
   "execution_count": 9,
   "metadata": {},
   "outputs": [],
   "source": [
    "# Demographic_Statistics_By_Zip_Code\n",
    "data_csv = pd.read_csv('Demographic_Statistics_By_Zip_Code.csv')\n",
    "fj = open('rows.json')\n",
    "data_json = json.load(fj)"
   ]
  },
  {
   "cell_type": "code",
   "execution_count": null,
   "metadata": {},
   "outputs": [],
   "source": []
  },
  {
   "cell_type": "code",
   "execution_count": null,
   "metadata": {},
   "outputs": [],
   "source": []
  },
  {
   "cell_type": "code",
   "execution_count": null,
   "metadata": {},
   "outputs": [],
   "source": []
  },
  {
   "cell_type": "code",
   "execution_count": null,
   "metadata": {},
   "outputs": [],
   "source": []
  },
  {
   "cell_type": "code",
   "execution_count": null,
   "metadata": {},
   "outputs": [],
   "source": [
    "# eco_cities={\n",
    "#     \"clean\":[] , #no oil, no mining\n",
    "#     \"semi_clean\":[] , #1 oil or mining\n",
    "#     \"dirty\" :[], # \"more than 1 oil or mining\"\n",
    "# }\n",
    "# industrial_cities={\n",
    "#     \"many_companies\":[], # more than 4 companie\n",
    "#     \"mid_companies\": [], #from 2 to 5 companies in a city\n",
    "#     \"small_companies\":[], #\"less then 2\"\n",
    "# }\n",
    "# pub_cities={\n",
    "#     \"good\":[], #contains a lot of different chains\n",
    "#     \"normal\": [], #contains at least 2 chains\n",
    "#     \"bad\": [] , #others\n",
    "# }\n",
    "\n",
    "# ##################\n",
    "# ######## 1 #######\n",
    "# ##################\n",
    "# all_cities_dict = dict()\n",
    "# for city in data:\n",
    "#     i = 0\n",
    "#     for company in city['company']:\n",
    "#         if company['industry'] == 'Gas/Oil':\n",
    "#             i +=1\n",
    "#         if company['industry'] == 'Mining':\n",
    "#             i +=1\n",
    "#     all_cities_dict[city['city']] = i\n",
    "# eco_cities['clean'] = list(dict((k, v) for k, v in all_cities_dict.items() if v == 0).keys())\n",
    "# eco_cities['semi_clean'] = list(dict((k, v) for k, v in all_cities_dict.items() if v == 1).keys())\n",
    "# eco_cities['dirty'] = list(dict((k, v) for k, v in all_cities_dict.items() if v > 1).keys())\n",
    "\n",
    "# ##################\n",
    "# ######## 2 #######\n",
    "# ##################\n",
    "# all_companies_dict = dict()\n",
    "# for city in data:\n",
    "#     for company in city['company']:\n",
    "#         all_companies_dict[city['city']] = len(city['company'])\n",
    "# industrial_cities['many_companies']  = list(dict((k, v) for k, v in all_companies_dict.items() if v > 4).keys())\n",
    "# industrial_cities['mid_companies']   = list(dict((k, v) for k, v in all_companies_dict.items() if v >= 2 and v < 4).keys())\n",
    "# industrial_cities['small_companies'] = list(dict((k, v) for k, v in all_companies_dict.items() if v < 2).keys())\n",
    "\n",
    "# ##################\n",
    "# ######## 3 #######\n",
    "# ##################\n",
    "# pub_cities={\n",
    "#     \"good\":[], #contains a lot of different chains\n",
    "#     \"normal\": [], #contains at least 2 chains\n",
    "#     \"bad\": [] , #others\n",
    "# }\n",
    "\n",
    "# all_pubs_dict = {'City_Name' : '',\n",
    "#                 'bars' : [],}\n",
    "\n",
    "# # for city in data:\n",
    "# #     i = 0\n",
    "# #     for bar in city['bars']:\n",
    "# #         i += 1\n",
    "# # #         print(bar['chain'])\n",
    "# #     all_pubs_dict[city['city']] = i\n",
    "# all_pubs_dict = dict()\n",
    "# for city in data:\n",
    "#     for company in city['company']:\n",
    "#         all_pubs_dict[city['city']] = len(city['bars'])\n",
    "# print(all_pubs_dict)\n",
    "# pub_cities['good']  = list(dict((k, v) for k, v in all_companies_dict.items() if v > 4).keys())\n",
    "# pub_cities['mid_companies']   = list(dict((k, v) for k, v in all_companies_dict.items() if v >= 2 and v < 4).keys())\n",
    "# pub_cities['small_companies'] = list(dict((k, v) for k, v in all_companies_dict.items() if v < 2).keys())"
   ]
  },
  {
   "cell_type": "code",
   "execution_count": null,
   "metadata": {},
   "outputs": [],
   "source": []
  },
  {
   "cell_type": "code",
   "execution_count": null,
   "metadata": {},
   "outputs": [],
   "source": []
  }
 ],
 "metadata": {
  "kernelspec": {
   "display_name": "Python 3",
   "language": "python",
   "name": "python3"
  },
  "language_info": {
   "codemirror_mode": {
    "name": "ipython",
    "version": 3
   },
   "file_extension": ".py",
   "mimetype": "text/x-python",
   "name": "python",
   "nbconvert_exporter": "python",
   "pygments_lexer": "ipython3",
   "version": "3.6.5"
  }
 },
 "nbformat": 4,
 "nbformat_minor": 2
}
